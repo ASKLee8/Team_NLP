{
 "cells": [
  {
   "cell_type": "markdown",
   "metadata": {},
   "source": [
    "# ===========================================================\n",
    "# ML1010 - Final Project: Mid-Term Proposal\n",
    "# Team NLP\n",
    "\n",
    "## Amit Asghar\n",
    "## Benjamin Kan\n",
    "## Lingling Zhang\n",
    "## Sophie Lee\n",
    "\n",
    "# Sentiment Analysis for Yelp Customer Reviews on Chinese Restaurants\n",
    "# ==========================================================="
   ]
  },
  {
   "cell_type": "markdown",
   "metadata": {},
   "source": [
    "# Introduction\n",
    "\n",
    "We work in a multi-national marketing firm with clients around the world servicing a wide range of industries such as chained restaurants, financial services and oil and gas firms. In order to expand our product offering, we have established a data science team to augment our existing marketing consulting services by providing clients insights and anticipating consumer trends to make their marketing campaigns become more effective. \n",
    "\n",
    "We have a chained Chinese restaurant client who own 50 restaurants across North America. Recently, the restaurant owner is looking into modernizing their brand to attract more Millennial customers. Our task is to create an effective marketing campaign for them. To achieve this goal, we decided to leverage our data science capabilities to conduct Sentiment Analysis on the customer reviews on Yelp for Chinese restaurants. The result of the analysis will form an important input to our marketing campaign. \n",
    " "
   ]
  },
  {
   "cell_type": "markdown",
   "metadata": {},
   "source": [
    "# Data Collection\n",
    "\n",
    "## Data Source\n",
    "The original dataset is from Yelp (https://www.yelp.com/dataset). It consists of the following sub-datasets in json format:\n",
    "\n",
    "* business.json: Contains business data including location data, attributes, and categories.\n",
    "* review.json: Contains full review text data including the user_id that wrote the review and the business_id the review is written for.\n",
    "* user.json: User data including the user's friend mapping and all the metadata associated with the user.\n",
    "* checkin.json: Checkins on a business.\n",
    "* tip.json: Tips written by a user on a business. Tips are shorter than reviews and tend to convey quick suggestions.\n",
    "\n",
    "In this project, we will mainly use the information in the business and review files.\n",
    "\n",
    "The original review dataset has more than 6 million reviews. In order to select the reviews pertained to Chinese restaurants, we performed the following filtering routine:\n",
    "\n",
    "* Using the business dataset, obtain a list of business IDs which are Chinese restaurants by searching for key word \"Chinese\" in the business categories column.\n",
    "* Under the review dataset, select the relevant reviews based on the list of business IDs"
   ]
  },
  {
   "cell_type": "code",
   "execution_count": 4,
   "metadata": {},
   "outputs": [],
   "source": [
    "import numpy as np # linear algebra\n",
    "import pandas as pd # data processing, CSV file I/O (e.g. pd.read_csv)\n",
    "import matplotlib.pyplot as plt\n",
    "#from mpl_toolkits.basemap import Basemap"
   ]
  },
  {
   "cell_type": "code",
   "execution_count": 5,
   "metadata": {
    "scrolled": true
   },
   "outputs": [
    {
     "name": "stdout",
     "output_type": "stream",
     "text": [
      "               address                                         attributes  \\\n",
      "0    1314 44 Avenue NE  {'BikeParking': 'False', 'BusinessAcceptsCredi...   \n",
      "1                       {'Alcohol': 'none', 'BikeParking': 'False', 'B...   \n",
      "2  1335 rue Beaubien E  {'Alcohol': 'beer_and_wine', 'Ambience': '{'ro...   \n",
      "3      211 W Monroe St                                               None   \n",
      "4  2005 Alyth Place SE             {'BusinessAcceptsCreditCards': 'True'}   \n",
      "\n",
      "              business_id                                         categories  \\\n",
      "0  Apn5Q_b6Nz61Tq4XzPdf9A  Tours, Breweries, Pizza, Restaurants, Food, Ho...   \n",
      "1  AjEbIBw6ZFfln7ePHha9PA  Chicken Wings, Burgers, Caterers, Street Vendo...   \n",
      "2  O8S5hYJ1SMc8fA4QBtVujA  Breakfast & Brunch, Restaurants, French, Sandw...   \n",
      "3  bFzdJJ3wp3PZssNEsyU23g                      Insurance, Financial Services   \n",
      "4  8USyCYqpScwiNEb58Bt6CA  Home & Garden, Nurseries & Gardening, Shopping...   \n",
      "\n",
      "        city                                              hours  is_open  \\\n",
      "0    Calgary  {'Monday': '8:30-17:0', 'Tuesday': '11:0-21:0'...        1   \n",
      "1  Henderson  {'Friday': '17:0-23:0', 'Saturday': '17:0-23:0...        0   \n",
      "2  MontrÃ©al  {'Monday': '10:0-22:0', 'Tuesday': '10:0-22:0'...        0   \n",
      "3    Phoenix                                               None        1   \n",
      "4    Calgary  {'Monday': '8:0-17:0', 'Tuesday': '8:0-17:0', ...        1   \n",
      "\n",
      "    latitude   longitude                  name               neighborhood  \\\n",
      "0  51.091813 -114.031675  Minhas Micro Brewery                              \n",
      "1  35.960734 -114.939821   CK'S BBQ & Catering                              \n",
      "2  45.540503  -73.599300         La Bastringue  Rosemont-La Petite-Patrie   \n",
      "3  33.449999 -112.076979       Geico Insurance                              \n",
      "4  51.035591 -114.027366         Action Engine                              \n",
      "\n",
      "  postal_code  review_count  stars state  \n",
      "0     T2E 6L6            24    4.0    AB  \n",
      "1       89002             3    4.5    NV  \n",
      "2     H2G 1K7             5    4.0    QC  \n",
      "3       85003             8    1.5    AZ  \n",
      "4     T2H 0N5             4    2.0    AB  \n",
      "(188593, 15)\n",
      "                     address  \\\n",
      "73            5440 Walnut St   \n",
      "109     2515 N Scottsdale Rd   \n",
      "214           4515 Verona Rd   \n",
      "331          811 S Gammon Rd   \n",
      "372  328 Wellington Street W   \n",
      "\n",
      "                                            attributes  \\\n",
      "73   {'Alcohol': 'full_bar', 'Ambience': '{'romanti...   \n",
      "109  {'Alcohol': 'none', 'Ambience': '{'romantic': ...   \n",
      "214  {'Alcohol': 'none', 'Ambience': '{'romantic': ...   \n",
      "331                    {'RestaurantsAttire': 'casual'}   \n",
      "372  {'Alcohol': 'full_bar', 'Ambience': '{'romanti...   \n",
      "\n",
      "                business_id  \\\n",
      "73   f2FfutZhb4F-m1Ob0EdYaw   \n",
      "109  SUhBnQdG8MWkmjM6wsnVdw   \n",
      "214  5ZqybrqiTdbANn2yI3B3VA   \n",
      "331  J8PbfZbU7XTs-h55ezuQcQ   \n",
      "372  YkAIlxYZ1guSqbbowU9X4g   \n",
      "\n",
      "                                            categories        city  \\\n",
      "73   Asian Fusion, Caterers, Fast Food, Chinese, Re...  Pittsburgh   \n",
      "109     Chinese, Bars, Karaoke, Nightlife, Restaurants  Scottsdale   \n",
      "214                               Restaurants, Chinese     Madison   \n",
      "331                               Chinese, Restaurants   Fitchburg   \n",
      "372  Restaurants, Chinese, Dim Sum, Breakfast & Brunch     Toronto   \n",
      "\n",
      "                                                 hours  is_open   latitude  \\\n",
      "73   {'Monday': '11:0-22:0', 'Tuesday': '11:0-22:0'...        1  40.450866   \n",
      "109  {'Monday': '12:0-22:30', 'Tuesday': '11:0-23:0...        1  33.475349   \n",
      "214  {'Monday': '10:30-21:30', 'Tuesday': '10:30-21...        1  43.035241   \n",
      "331  {'Monday': '11:0-21:0', 'Tuesday': '11:0-21:0'...        0  43.047406   \n",
      "372  {'Monday': '16:0-1:0', 'Tuesday': '12:0-1:0', ...        1  43.644697   \n",
      "\n",
      "      longitude                             name            neighborhood  \\\n",
      "73   -79.933919                     China Palace               Shadyside   \n",
      "109 -111.925657  Tang Dynasty Restaurant And Bar                           \n",
      "214  -89.453599                       Great Wall     Allied Dunn's Marsh   \n",
      "331  -89.502630                 CHANG HUA GARDEN                           \n",
      "372  -79.392395                           Luckee  Entertainment District   \n",
      "\n",
      "    postal_code  review_count  stars state  \n",
      "73        15232           110    3.0    PA  \n",
      "109       85257            28    3.5    AZ  \n",
      "214       53711            22    3.5    WI  \n",
      "331       53719             3    4.5    WI  \n",
      "372     M5V 3T4           171    3.5    ON  \n",
      "(4468, 15)\n"
     ]
    }
   ],
   "source": [
    "# load business JSON file\n",
    "business_df = pd.read_json(\"yelp_academic_dataset_business.json\", lines=True)\n",
    "print(business_df.head())\n",
    "print(business_df.shape)\n",
    "\n",
    "chinese_restaurants = business_df[business_df['categories'].str.contains('Chinese') == True]\n",
    "\n",
    "print(chinese_restaurants.head())\n",
    "print(chinese_restaurants.shape)\n",
    "\n",
    "chinese_restaurants.to_csv('chinese_business.csv')"
   ]
  },
  {
   "cell_type": "markdown",
   "metadata": {},
   "source": [
    "The code above shows that there are 4,468 Chinese restaurants. As for selecting the relevant reviews based on the business IDs for the 4,468 Chinese restaurants, because it is very computationally expensive, we extracted these reviews separately. Below is the relevant reviews in csv format."
   ]
  },
  {
   "cell_type": "code",
   "execution_count": 6,
   "metadata": {},
   "outputs": [
    {
     "name": "stdout",
     "output_type": "stream",
     "text": [
      "   funny                 user_id               review_id  \\\n",
      "0      0  0pf5VuzE4_1pwj5NJHG5TQ  oz66Z8p9Etq0WbcZVCmm7w   \n",
      "1      1  0pf5VuzE4_1pwj5NJHG5TQ  oyhOp2Eu7A9rsnmoV0VFgA   \n",
      "2      0  0pf5VuzE4_1pwj5NJHG5TQ  8k2WpYJFfsPL3kupmvGjWA   \n",
      "3      0  0pf5VuzE4_1pwj5NJHG5TQ  JvCsQXCkTkybpkJd8oSimw   \n",
      "4      0  Yy_iGXxLpL6tYDQoE-6XVg  mqhCY5oLA1LXP6gZ3JQDTQ   \n",
      "\n",
      "                                                text             business_id  \\\n",
      "0  Friendliest staff, no matter how swamped they ...  OX0T9dWI8b7meu-ljTo22A   \n",
      "1  Been coming here for years, always delicious f...  SVMR0kRmdd-bbSNTTECJBA   \n",
      "2  Best place for dim sum in the valley.  Prefer ...  szhJLmdLDVFTevm8fu0T4A   \n",
      "3  Love the house chicken and chicken fried rice....  A2pHOVp0zh7grb1bbZxoBQ   \n",
      "4  The spicy wonton was my favorite. We ordered a...  JPfi__QJAaRzmfh5aOyFEw   \n",
      "\n",
      "   stars        date  useful  cool  \n",
      "0      5  2016-05-01       0     0  \n",
      "1      5  2016-03-06       0     0  \n",
      "2      5  2016-05-01       0     0  \n",
      "3      4  2016-06-13       0     0  \n",
      "4      3  2017-01-31       0     0  \n",
      "(227132, 9)\n"
     ]
    }
   ],
   "source": [
    "# load Chinese restaurant review file\n",
    "chinese_reviews_df = pd.read_csv(\"yelp_chinese_review.csv\")\n",
    "print(chinese_reviews_df.head())\n",
    "print(chinese_reviews_df.shape)\n"
   ]
  },
  {
   "cell_type": "markdown",
   "metadata": {},
   "source": [
    "As we can see, the review dataset has been narrowed down from 6 million to 227,132 reviews."
   ]
  },
  {
   "cell_type": "markdown",
   "metadata": {},
   "source": [
    "## Prepare Review Dataset for Data Exploration\n",
    "\n",
    "In order to perform effective data exploration, we are merging the business dataset with the review dataset."
   ]
  },
  {
   "cell_type": "code",
   "execution_count": 7,
   "metadata": {},
   "outputs": [
    {
     "name": "stdout",
     "output_type": "stream",
     "text": [
      "   funny                 user_id               review_id  \\\n",
      "0      0  0pf5VuzE4_1pwj5NJHG5TQ  oz66Z8p9Etq0WbcZVCmm7w   \n",
      "1      0  ZuCXUnvBXN9wj2S8ZD40qw  0Z4uMWbCUKKtzDFeOoQt3Q   \n",
      "2      0  NH7hMsA2Mogeboht1-XEVQ  AKTWTO0aUe8GMnax51aSjA   \n",
      "3      0  o5hp_ni5e0SrCTczzEajuA  qrNDl6NDPS_4u8T5VJMx9g   \n",
      "4      0  4SJbA5cVsHHVBt3bpGHTzg  HFFV71RDN0odsR1a7Bc9oA   \n",
      "\n",
      "                                                text             business_id  \\\n",
      "0  Friendliest staff, no matter how swamped they ...  OX0T9dWI8b7meu-ljTo22A   \n",
      "1  getting some food I wish it was a lot bigger t...  OX0T9dWI8b7meu-ljTo22A   \n",
      "2  The place is a pit and it always has been a pi...  OX0T9dWI8b7meu-ljTo22A   \n",
      "3  I have been coming to long wongs for 10 years!...  OX0T9dWI8b7meu-ljTo22A   \n",
      "4  For the most part it's a unique and different ...  OX0T9dWI8b7meu-ljTo22A   \n",
      "\n",
      "   stars_x        date  useful  cool           address  ...   \\\n",
      "0        5  2016-05-01       0     0  2812 E Thomas Rd  ...    \n",
      "1        4  2013-12-10       0     0  2812 E Thomas Rd  ...    \n",
      "2        1  2016-01-31       0     0  2812 E Thomas Rd  ...    \n",
      "3        5  2017-06-19       0     0  2812 E Thomas Rd  ...    \n",
      "4        4  2014-09-29       0     0  2812 E Thomas Rd  ...    \n",
      "\n",
      "                                               hours is_open latitude  \\\n",
      "0  {'Monday': '10:0-22:0', 'Tuesday': '10:0-22:0'...       1  33.4808   \n",
      "1  {'Monday': '10:0-22:0', 'Tuesday': '10:0-22:0'...       1  33.4808   \n",
      "2  {'Monday': '10:0-22:0', 'Tuesday': '10:0-22:0'...       1  33.4808   \n",
      "3  {'Monday': '10:0-22:0', 'Tuesday': '10:0-22:0'...       1  33.4808   \n",
      "4  {'Monday': '10:0-22:0', 'Tuesday': '10:0-22:0'...       1  33.4808   \n",
      "\n",
      "    longitude         name  neighborhood  postal_code review_count stars_y  \\\n",
      "0 -112.020797  Long Wong's                      85016          125     3.5   \n",
      "1 -112.020797  Long Wong's                      85016          125     3.5   \n",
      "2 -112.020797  Long Wong's                      85016          125     3.5   \n",
      "3 -112.020797  Long Wong's                      85016          125     3.5   \n",
      "4 -112.020797  Long Wong's                      85016          125     3.5   \n",
      "\n",
      "  state  \n",
      "0    AZ  \n",
      "1    AZ  \n",
      "2    AZ  \n",
      "3    AZ  \n",
      "4    AZ  \n",
      "\n",
      "[5 rows x 23 columns]\n",
      "(227132, 23)\n"
     ]
    }
   ],
   "source": [
    "chinese_reviews_df_full = pd.merge(chinese_reviews_df,right=business_df, how=\"inner\",on='business_id')\n",
    "print(chinese_reviews_df_full.head())\n",
    "print(chinese_reviews_df_full.shape)\n",
    "chinese_reviews_df_full.to_csv('yelp_chinese_review_full.csv')"
   ]
  },
  {
   "cell_type": "code",
   "execution_count": 8,
   "metadata": {},
   "outputs": [
    {
     "name": "stdout",
     "output_type": "stream",
     "text": [
      "   funny                 user_id               review_id  \\\n",
      "0      0  0pf5VuzE4_1pwj5NJHG5TQ  oz66Z8p9Etq0WbcZVCmm7w   \n",
      "1      0  ZuCXUnvBXN9wj2S8ZD40qw  0Z4uMWbCUKKtzDFeOoQt3Q   \n",
      "2      0  NH7hMsA2Mogeboht1-XEVQ  AKTWTO0aUe8GMnax51aSjA   \n",
      "3      0  o5hp_ni5e0SrCTczzEajuA  qrNDl6NDPS_4u8T5VJMx9g   \n",
      "4      0  4SJbA5cVsHHVBt3bpGHTzg  HFFV71RDN0odsR1a7Bc9oA   \n",
      "\n",
      "                                                text             business_id  \\\n",
      "0  Friendliest staff, no matter how swamped they ...  OX0T9dWI8b7meu-ljTo22A   \n",
      "1  getting some food I wish it was a lot bigger t...  OX0T9dWI8b7meu-ljTo22A   \n",
      "2  The place is a pit and it always has been a pi...  OX0T9dWI8b7meu-ljTo22A   \n",
      "3  I have been coming to long wongs for 10 years!...  OX0T9dWI8b7meu-ljTo22A   \n",
      "4  For the most part it's a unique and different ...  OX0T9dWI8b7meu-ljTo22A   \n",
      "\n",
      "   stars_x        date  useful  cool           address  ...   \\\n",
      "0        5  2016-05-01       0     0  2812 E Thomas Rd  ...    \n",
      "1        4  2013-12-10       0     0  2812 E Thomas Rd  ...    \n",
      "2        1  2016-01-31       0     0  2812 E Thomas Rd  ...    \n",
      "3        5  2017-06-19       0     0  2812 E Thomas Rd  ...    \n",
      "4        4  2014-09-29       0     0  2812 E Thomas Rd  ...    \n",
      "\n",
      "                                               hours is_open latitude  \\\n",
      "0  {'Monday': '10:0-22:0', 'Tuesday': '10:0-22:0'...       1  33.4808   \n",
      "1  {'Monday': '10:0-22:0', 'Tuesday': '10:0-22:0'...       1  33.4808   \n",
      "2  {'Monday': '10:0-22:0', 'Tuesday': '10:0-22:0'...       1  33.4808   \n",
      "3  {'Monday': '10:0-22:0', 'Tuesday': '10:0-22:0'...       1  33.4808   \n",
      "4  {'Monday': '10:0-22:0', 'Tuesday': '10:0-22:0'...       1  33.4808   \n",
      "\n",
      "    longitude         name  neighborhood  postal_code review_count stars_y  \\\n",
      "0 -112.020797  Long Wong's                      85016          125     3.5   \n",
      "1 -112.020797  Long Wong's                      85016          125     3.5   \n",
      "2 -112.020797  Long Wong's                      85016          125     3.5   \n",
      "3 -112.020797  Long Wong's                      85016          125     3.5   \n",
      "4 -112.020797  Long Wong's                      85016          125     3.5   \n",
      "\n",
      "  state  \n",
      "0    AZ  \n",
      "1    AZ  \n",
      "2    AZ  \n",
      "3    AZ  \n",
      "4    AZ  \n",
      "\n",
      "[5 rows x 23 columns]\n"
     ]
    }
   ],
   "source": [
    "print(chinese_reviews_df_full.head())"
   ]
  },
  {
   "cell_type": "markdown",
   "metadata": {},
   "source": [
    "# Data Exploration\n",
    "\n",
    "## Overview of the Reviews"
   ]
  },
  {
   "cell_type": "code",
   "execution_count": 9,
   "metadata": {},
   "outputs": [
    {
     "name": "stdout",
     "output_type": "stream",
     "text": [
      "Total reviews: 227132\n",
      "Useful reviews: 104596\n",
      "Funny reviews: 47953\n",
      "Cool reviews: 56291\n",
      "Total negative reviews: 33170\n",
      "Total positive reviews: 134161\n"
     ]
    }
   ],
   "source": [
    "useful_reviews = len(chinese_reviews_df_full[chinese_reviews_df_full[\"useful\"]>0])\n",
    "cool_reviews = len(chinese_reviews_df_full[chinese_reviews_df_full[\"cool\"]>0])\n",
    "funny_reviews = len(chinese_reviews_df_full[chinese_reviews_df_full[\"funny\"]>0])\n",
    "negative_reviws = len(chinese_reviews_df_full[chinese_reviews_df_full[\"stars_x\"]<2])\n",
    "positive_reviews =len(chinese_reviews_df_full[chinese_reviews_df_full[\"stars_x\"]>3])\n",
    "total_reviews = len(chinese_reviews_df_full)\n",
    "\n",
    "print(\"Total reviews: {}\".format(total_reviews))\n",
    "print(\"Useful reviews: {}\".format(useful_reviews))\n",
    "print(\"Funny reviews: {}\".format(funny_reviews))\n",
    "print(\"Cool reviews: {}\".format(cool_reviews))\n",
    "print(\"Total negative reviews: {}\".format(negative_reviws))\n",
    "print(\"Total positive reviews: {}\".format(positive_reviews))"
   ]
  },
  {
   "cell_type": "markdown",
   "metadata": {},
   "source": [
    "## Histogram of the Review Ratings"
   ]
  },
  {
   "cell_type": "code",
   "execution_count": 10,
   "metadata": {},
   "outputs": [
    {
     "data": {
      "text/plain": [
       "Text(0.5, 1.0, 'Histogram for the Review Ratings')"
      ]
     },
     "execution_count": 10,
     "metadata": {},
     "output_type": "execute_result"
    },
    {
     "data": {
      "image/png": "[encoded data removed]",
      "text/plain": [
       "<Figure size 432x288 with 1 Axes>"
      ]
     },
     "metadata": {
      "needs_background": "light"
     },
     "output_type": "display_data"
    }
   ],
   "source": [
    "plt.hist(chinese_reviews_df_full['stars_x'])\n",
    "plt.ylabel('Frequency');\n",
    "plt.title('Histogram for the Review Ratings')"
   ]
  },
  {
   "cell_type": "markdown",
   "metadata": {},
   "source": [
    "The histogram above shows that there are more positive reviews."
   ]
  },
  {
   "cell_type": "markdown",
   "metadata": {},
   "source": [
    "## Top 20 Positive Reviews Restaurants"
   ]
  },
  {
   "cell_type": "code",
   "execution_count": 14,
   "metadata": {},
   "outputs": [
    {
     "name": "stdout",
     "output_type": "stream",
     "text": [
      "              business_id  rated\n",
      "0  OX0T9dWI8b7meu-ljTo22A     72\n",
      "1  SVMR0kRmdd-bbSNTTECJBA    125\n",
      "2  szhJLmdLDVFTevm8fu0T4A    269\n",
      "3  A2pHOVp0zh7grb1bbZxoBQ     53\n",
      "4  JPfi__QJAaRzmfh5aOyFEw    759\n"
     ]
    }
   ],
   "source": [
    "top_reviewed = chinese_reviews_df_full[chinese_reviews_df_full[\"stars_x\"]>3]\n",
    "top_reviews_dict ={}\n",
    "\n",
    "for business_id in top_reviewed[\"business_id\"].values:\n",
    "    try :\n",
    "        top_reviews_dict[business_id] =top_reviews_dict[business_id]+1\n",
    "    except:\n",
    "        top_reviews_dict[business_id]=1\n",
    "        \n",
    "topbusiness = pd.DataFrame.from_dict(data= top_reviews_dict,orient=\"index\")\n",
    "\n",
    "topbusiness.reset_index(inplace=True)\n",
    "topbusiness.columns = ['business_id', 'rated']\n",
    "del(top_reviews_dict)\n",
    "del(top_reviewed)\n",
    "print(topbusiness.head())"
   ]
  },
  {
   "cell_type": "code",
   "execution_count": 15,
   "metadata": {},
   "outputs": [
    {
     "name": "stdout",
     "output_type": "stream",
     "text": [
      "              business_id  rated         Business name  \\\n",
      "0  OX0T9dWI8b7meu-ljTo22A     72           Long Wong's   \n",
      "1  SVMR0kRmdd-bbSNTTECJBA    125          Super Dragon   \n",
      "2  szhJLmdLDVFTevm8fu0T4A    269    Great Wall Cuisine   \n",
      "3  A2pHOVp0zh7grb1bbZxoBQ     53         Little Peking   \n",
      "4  JPfi__QJAaRzmfh5aOyFEw    759  Shang Artisan Noodle   \n",
      "\n",
      "                                          categories  \n",
      "0  American (Traditional), Pizza, Restaurants, Ar...  \n",
      "1                Seafood, Chinese, Restaurants, Soup  \n",
      "2           Chinese, Dim Sum, Restaurants, Cantonese  \n",
      "3                               Chinese, Restaurants  \n",
      "4  Asian Fusion, Restaurants, Chinese, Soup, Noodles  \n"
     ]
    },
    {
     "data": {
      "image/png": "[encoded data removed]",
      "text/plain": [
       "<Figure size 1008x432 with 1 Axes>"
      ]
     },
     "metadata": {
      "needs_background": "light"
     },
     "output_type": "display_data"
    }
   ],
   "source": [
    "top_count= 20\n",
    "right=pd.DataFrame(chinese_restaurants[['business_id',\"name\",\"categories\"]].values,\n",
    "                    columns=['business_id',\"Business name\",\"categories\"])\n",
    "\n",
    "top_business_data = pd.merge(topbusiness,right=right, how=\"inner\",on='business_id')\n",
    "\n",
    "print(top_business_data.head())\n",
    "top_business_data.sort_values(\"rated\")[::-1][:top_count].plot(x=\"Business name\",y=\"rated\", \n",
    "                                                   kind=\"bar\",figsize=(14,6),\n",
    "                                                   title='Positive reviews').set_ylabel(\"Total ratings\")\n",
    "\n",
    "del(topbusiness)\n",
    "del(right)\n"
   ]
  },
  {
   "cell_type": "markdown",
   "metadata": {},
   "source": [
    "## Top 20 Negative Positive Reviews Restaurants"
   ]
  },
  {
   "cell_type": "code",
   "execution_count": 40,
   "metadata": {},
   "outputs": [
    {
     "name": "stdout",
     "output_type": "stream",
     "text": [
      "              business_id  rated\n",
      "0  OX0T9dWI8b7meu-ljTo22A     31\n",
      "1  SVMR0kRmdd-bbSNTTECJBA     29\n",
      "2  szhJLmdLDVFTevm8fu0T4A     84\n",
      "3  A2pHOVp0zh7grb1bbZxoBQ      9\n",
      "4  JPfi__QJAaRzmfh5aOyFEw     38\n"
     ]
    }
   ],
   "source": [
    "top_reviewed = chinese_reviews_df_full[chinese_reviews_df_full[\"stars_x\"]<3]\n",
    "top_reviews_dict ={}\n",
    "\n",
    "for business_id in top_reviewed[\"business_id\"].values:\n",
    "    try :\n",
    "        top_reviews_dict[business_id] =top_reviews_dict[business_id]+1\n",
    "    except:\n",
    "        top_reviews_dict[business_id]=1\n",
    "        \n",
    "topbusiness = pd.DataFrame.from_dict(data= top_reviews_dict,orient=\"index\")\n",
    "\n",
    "topbusiness.reset_index(inplace=True)\n",
    "topbusiness.columns = ['business_id', 'rated']\n",
    "del(top_reviews_dict)\n",
    "del(top_reviewed)\n",
    "print(topbusiness.head())"
   ]
  },
  {
   "cell_type": "code",
   "execution_count": 41,
   "metadata": {},
   "outputs": [
    {
     "name": "stdout",
     "output_type": "stream",
     "text": [
      "              business_id  rated         Business name  \\\n",
      "0  OX0T9dWI8b7meu-ljTo22A     31           Long Wong's   \n",
      "1  SVMR0kRmdd-bbSNTTECJBA     29          Super Dragon   \n",
      "2  szhJLmdLDVFTevm8fu0T4A     84    Great Wall Cuisine   \n",
      "3  A2pHOVp0zh7grb1bbZxoBQ      9         Little Peking   \n",
      "4  JPfi__QJAaRzmfh5aOyFEw     38  Shang Artisan Noodle   \n",
      "\n",
      "                                          categories  \n",
      "0  American (Traditional), Pizza, Restaurants, Ar...  \n",
      "1                Seafood, Chinese, Restaurants, Soup  \n",
      "2           Chinese, Dim Sum, Restaurants, Cantonese  \n",
      "3                               Chinese, Restaurants  \n",
      "4  Asian Fusion, Restaurants, Chinese, Soup, Noodles  \n"
     ]
    },
    {
     "data": {
      "image/png": "[encoded data removed]",
      "text/plain": [
       "<Figure size 1008x432 with 1 Axes>"
      ]
     },
     "metadata": {
      "needs_background": "light"
     },
     "output_type": "display_data"
    }
   ],
   "source": [
    "top_count= 20\n",
    "right=pd.DataFrame(chinese[['business_id',\"name\",\"categories\"]].values,\n",
    "                    columns=['business_id',\"Business name\",\"categories\"])\n",
    "\n",
    "top_business_data = pd.merge(topbusiness,right=right, how=\"inner\",on='business_id')\n",
    "\n",
    "print(top_business_data.head())\n",
    "top_business_data.sort_values(\"rated\")[::-1][:top_count].plot(x=\"Business name\",y=\"rated\", \n",
    "                                                   kind=\"bar\",figsize=(14,6),\n",
    "                                                   title='Negative reviews').set_ylabel(\"Total ratings\")\n",
    "\n",
    "del(topbusiness)\n",
    "del(right)"
   ]
  },
  {
   "cell_type": "code",
   "execution_count": null,
   "metadata": {},
   "outputs": [],
   "source": []
  }
 ],
 "metadata": {
  "kernelspec": {
   "display_name": "Python 3",
   "language": "python",
   "name": "python3"
  },
  "language_info": {
   "codemirror_mode": {
    "name": "ipython",
    "version": 3
   },
   "file_extension": ".py",
   "mimetype": "text/x-python",
   "name": "python",
   "nbconvert_exporter": "python",
   "pygments_lexer": "ipython3",
   "version": "3.7.0"
  }
 },
 "nbformat": 4,
 "nbformat_minor": 2
}
